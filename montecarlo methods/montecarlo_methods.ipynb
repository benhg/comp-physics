{
 "cells": [
  {
   "cell_type": "code",
   "execution_count": 10,
   "metadata": {},
   "outputs": [],
   "source": [
    "from math import *\n",
    "import random\n",
    "from pylab import *\n",
    "from numpy import *\n",
    "import multiprocessing\n",
    "% matplotlib inline"
   ]
  },
  {
   "cell_type": "code",
   "execution_count": 27,
   "metadata": {},
   "outputs": [
    {
     "name": "stdout",
     "output_type": "stream",
     "text": [
      "CPU times: user 11 µs, sys: 2 µs, total: 13 µs\n",
      "Wall time: 18.6 µs\n"
     ]
    }
   ],
   "source": [
    "%%time\n",
    "\n",
    "def f(x):\n",
    "    return sin(1/(x*(2-x)))**2\n",
    "\n",
    "def g(x): \n",
    "    return (x**(-.5)/(e**x + 1))\n",
    "\n",
    "def worker(dist, height=1, a=0):\n",
    "    x, y = (random.random()*dist), random.random() * height\n",
    "    if y < f(x):\n",
    "        return 1\n",
    "    return 0\n",
    "\n",
    "\n",
    "def mc_int(f, a, b, n, height):\n",
    "    dist = b-a\n",
    "    pool = multiprocessing.Pool()\n",
    "    work = pool.map(worker, [dist for i in range(n)])\n",
    "    return dist ** height * (sum(work)/n)\n",
    "\n",
    "\n",
    "#plot(linspace(0, 2, 1000), [f(x) for x in linspace(0, 2, 1000)])\n",
    "# show()\n",
    "\n"
   ]
  },
  {
   "cell_type": "code",
   "execution_count": 30,
   "metadata": {},
   "outputs": [
    {
     "name": "stdout",
     "output_type": "stream",
     "text": [
      "0.7262148\n"
     ]
    }
   ],
   "source": [
    "print(mc_int(g, 0, 1, 10**7, 1))"
   ]
  },
  {
   "cell_type": "code",
   "execution_count": 8,
   "metadata": {},
   "outputs": [],
   "source": [
    "def meanvalue_montecarlo(f, a, b, n):\n",
    "    dist = (b-a)\n",
    "    summ = 0\n",
    "    for i in range(n):\n",
    "        summ += f((random.random()*dist) + a)\n",
    "    return (summ * dist )/n"
   ]
  },
  {
   "cell_type": "code",
   "execution_count": 9,
   "metadata": {},
   "outputs": [
    {
     "name": "stdout",
     "output_type": "stream",
     "text": [
      "1.451073448677726\n"
     ]
    }
   ],
   "source": [
    "print(meanvalue_montecarlo(f, 0, 2, 10**6))"
   ]
  },
  {
   "cell_type": "code",
   "execution_count": 20,
   "metadata": {},
   "outputs": [],
   "source": [
    "def ddim_mc_int(dist, d, n):\n",
    "    summ = 0\n",
    "    for i in range(n):\n",
    "        summm = sum([random.random()**2 for _ in range(d)]) \n",
    "        if summm <= 1:\n",
    "             summ += 1\n",
    "    return dist**d *(summ/n)"
   ]
  },
  {
   "cell_type": "code",
   "execution_count": 25,
   "metadata": {},
   "outputs": [
    {
     "name": "stdout",
     "output_type": "stream",
     "text": [
      "1.0\n",
      "2.0\n",
      "3.140124\n",
      "4.18792\n",
      "4.937056\n",
      "5.246656\n",
      "5.191424\n",
      "4.722176\n",
      "4.057088\n",
      "3.368448\n"
     ]
    }
   ],
   "source": [
    "for d in range(10):\n",
    "    print(ddim_mc_int(2, d, 10**6))"
   ]
  },
  {
   "cell_type": "code",
   "execution_count": 48,
   "metadata": {},
   "outputs": [],
   "source": [
    "def sum_body(xi):\n",
    "    return 1/(e**xi + 1)\n",
    "\n",
    "def w(x):\n",
    "    return x**(-.5)\n",
    "\n",
    "def p(x):\n",
    "    return 1/(2*sqrt(x))\n",
    "\n",
    "def rand_dist():\n",
    "    return random.random()**2"
   ]
  },
  {
   "cell_type": "code",
   "execution_count": 49,
   "metadata": {},
   "outputs": [
    {
     "name": "stdout",
     "output_type": "stream",
     "text": [
      "0.838927417519986\n"
     ]
    }
   ],
   "source": [
    "N = 10**7\n",
    "summ = 0\n",
    "for i in range(N):\n",
    "    xi = rand_dist()\n",
    "    weight = 2\n",
    "    summ += (weight * sum_body(xi))\n",
    "\n",
    "summ*= 1/N\n",
    "print(summ)"
   ]
  },
  {
   "cell_type": "code",
   "execution_count": null,
   "metadata": {},
   "outputs": [],
   "source": []
  }
 ],
 "metadata": {
  "kernelspec": {
   "display_name": "Python 3",
   "language": "python",
   "name": "python3"
  },
  "language_info": {
   "codemirror_mode": {
    "name": "ipython",
    "version": 3
   },
   "file_extension": ".py",
   "mimetype": "text/x-python",
   "name": "python",
   "nbconvert_exporter": "python",
   "pygments_lexer": "ipython3",
   "version": "3.6.4"
  },
  "latex_envs": {
   "LaTeX_envs_menu_present": true,
   "autoclose": false,
   "autocomplete": true,
   "bibliofile": "biblio.bib",
   "cite_by": "apalike",
   "current_citInitial": 1,
   "eqLabelWithNumbers": true,
   "eqNumInitial": 1,
   "hotkeys": {
    "equation": "Ctrl-E",
    "itemize": "Ctrl-I"
   },
   "labels_anchors": false,
   "latex_user_defs": false,
   "report_style_numbering": false,
   "user_envs_cfg": false
  }
 },
 "nbformat": 4,
 "nbformat_minor": 2
}
