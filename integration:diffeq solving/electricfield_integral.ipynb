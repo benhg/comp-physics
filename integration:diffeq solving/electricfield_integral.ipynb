{
 "cells": [
  {
   "cell_type": "code",
   "execution_count": 34,
   "metadata": {},
   "outputs": [],
   "source": [
    "from math import *\n",
    "\n",
    "def trapezoidal_2d(f, ax, ay, bx, by, h):\n",
    "    nx = int((bx-ax) / h)\n",
    "    ny = int((by-ay) / h)\n",
    "    integral = 0\n",
    "\n",
    "    for i in range(nx+1):\n",
    "        for k in range(ny+1):\n",
    "            l = f(ax+i*h, ay+k*h) * h**2\n",
    "            if i == 0 or i == nx:\n",
    "                l /= 2\n",
    "            if k == 0 or k == ny:\n",
    "                l /= 2\n",
    "            integral += l\n",
    "    return integral\n",
    "\n",
    "\n",
    "def adaptive_trapezoidal_2d(f, ax, ay, bx, by, delta):\n",
    "    h = 10**-1\n",
    "    ny = (by-ay)/h\n",
    "    nx = (bx-ax)/h\n",
    "    I_1 = trapezoidal_2d(f, ax, ay, bx, by, h)\n",
    "    err = 1000\n",
    "    while err > delta:\n",
    "        h /= 2\n",
    "        nx *= 2\n",
    "        ny *= 2\n",
    "        next_int = I_1/2 + h*(sum([f(ax+k*h, ay) for k in range(1, int(nx), 2)]))+ h*(sum([f(ax, ay+k*h) for k in range(1, int(ny), 2)]))\n",
    "        err = abs(next_int - I_1)/3\n",
    "        if err < delta:\n",
    "            \n",
    "            return next_int, err\n",
    "        else:\n",
    "            I_1 = next_int\n"
   ]
  },
  {
   "cell_type": "code",
   "execution_count": 35,
   "metadata": {},
   "outputs": [],
   "source": [
    "def rho(x, y):\n",
    "    if x == 1/2 and -1/2 <= y <= 1/2:\n",
    "        return 1\n",
    "    elif x == -1/2 and -1/2 <= y <= 1/2:\n",
    "        return 1\n",
    "    elif y == 1/2 and -1/2 <= x <= 1/2:\n",
    "        return 1\n",
    "    elif y == -1/2 and -1/2 <= x <= 1/2:\n",
    "        return 1\n",
    "    else:\n",
    "        return 0"
   ]
  },
  {
   "cell_type": "code",
   "execution_count": 36,
   "metadata": {},
   "outputs": [],
   "source": [
    "def function_to_integrate_00(x,y):\n",
    "    a, b = 0,0\n",
    "    r = [a,b]\n",
    "    rprime = [x,y]\n",
    "    dist = sqrt(sum([(a-x)**2, (b-y)**2]))\n",
    "    try:\n",
    "        return rho(x, y)/(dist)\n",
    "    except Exception as e:\n",
    "        pass"
   ]
  },
  {
   "cell_type": "code",
   "execution_count": 37,
   "metadata": {},
   "outputs": [
    {
     "name": "stdout",
     "output_type": "stream",
     "text": [
      "The total field at point(x, y) = (0, 0) is 7.044455993621723\n"
     ]
    }
   ],
   "source": [
    "print(\"The total field at point(x, y) = (0, 0) is {}\".format(\n",
    "    adaptive_trapezoidal_2d(function_to_integrate_00, -1/2, -1/2, -1/2, 1/2, 10**-3)[0]\n",
    "    + adaptive_trapezoidal_2d(function_to_integrate_00, -1/2, -1/2, 1/2, -1/2, 10**-3)[0]\n",
    "    + adaptive_trapezoidal_2d(function_to_integrate_00, 1/2, -1/2, 1/2, 1/2, 10**-3)[0]\n",
    "    + adaptive_trapezoidal_2d(function_to_integrate_00, -1/2, 1/2, 1/2, 1/2, 10**-3)[0]))"
   ]
  },
  {
   "cell_type": "code",
   "execution_count": 38,
   "metadata": {},
   "outputs": [],
   "source": [
    "def function_to_integrate_140(x,y):\n",
    "    a, b = 1/4,0\n",
    "    r = [a,b]\n",
    "    rprime = [x,y]\n",
    "    dist = sqrt(sum([(a-x)**2, (b-y)**2]))\n",
    "    try:\n",
    "        return rho(x, y)/(dist)\n",
    "    except Exception as e:\n",
    "        pass"
   ]
  },
  {
   "cell_type": "code",
   "execution_count": 39,
   "metadata": {},
   "outputs": [
    {
     "name": "stdout",
     "output_type": "stream",
     "text": [
      "The total field at point(x, y) = (1/4, 0) is 7.48141337676725\n"
     ]
    }
   ],
   "source": [
    "print(\"The total field at point(x, y) = (1/4, 0) is {}\".format(\n",
    "    adaptive_trapezoidal_2d(function_to_integrate_140, -1/2, -1/2, -1/2, 1/2, 10**-3)[0]\n",
    "    + adaptive_trapezoidal_2d(function_to_integrate_140, -1/2, -1/2, 1/2, -1/2, 10**-3)[0]\n",
    "    + adaptive_trapezoidal_2d(function_to_integrate_140, 1/2, -1/2, 1/2, 1/2, 10**-3)[0]\n",
    "    + adaptive_trapezoidal_2d(function_to_integrate_140, -1/2, 1/2, 1/2, 1/2, 10**-3)[0]))"
   ]
  },
  {
   "cell_type": "code",
   "execution_count": 43,
   "metadata": {
    "scrolled": true
   },
   "outputs": [
    {
     "name": "stdout",
     "output_type": "stream",
     "text": [
      "0.0 percent complete\n",
      "1.0 percent complete\n",
      "2.0 percent complete\n",
      "3.0 percent complete\n",
      "4.0 percent complete\n",
      "5.0 percent complete\n",
      "6.0 percent complete\n",
      "7.0 percent complete\n",
      "8.0 percent complete\n",
      "9.0 percent complete\n",
      "10.0 percent complete\n",
      "11.0 percent complete\n",
      "12.0 percent complete\n",
      "13.0 percent complete\n",
      "14.0 percent complete\n",
      "15.0 percent complete\n",
      "16.0 percent complete\n",
      "17.0 percent complete\n",
      "18.0 percent complete\n",
      "19.0 percent complete\n",
      "20.0 percent complete\n",
      "21.0 percent complete\n",
      "22.0 percent complete\n",
      "23.0 percent complete\n",
      "24.0 percent complete\n",
      "25.0 percent complete\n",
      "26.0 percent complete\n",
      "27.0 percent complete\n",
      "28.0 percent complete\n",
      "29.0 percent complete\n",
      "30.0 percent complete\n",
      "31.0 percent complete\n",
      "32.0 percent complete\n",
      "33.0 percent complete\n",
      "34.0 percent complete\n",
      "35.0 percent complete\n",
      "36.0 percent complete\n",
      "37.0 percent complete\n",
      "38.0 percent complete\n",
      "39.0 percent complete\n",
      "40.0 percent complete\n",
      "41.0 percent complete\n",
      "42.0 percent complete\n",
      "43.0 percent complete\n",
      "44.0 percent complete\n",
      "45.0 percent complete\n",
      "46.0 percent complete\n",
      "47.0 percent complete\n",
      "48.0 percent complete\n",
      "49.0 percent complete\n",
      "50.0 percent complete\n",
      "51.0 percent complete\n",
      "52.0 percent complete\n",
      "53.0 percent complete\n",
      "54.0 percent complete\n",
      "55.0 percent complete\n",
      "56.0 percent complete\n",
      "57.0 percent complete\n",
      "58.0 percent complete\n",
      "59.0 percent complete\n",
      "60.0 percent complete\n",
      "61.0 percent complete\n",
      "62.0 percent complete\n",
      "63.0 percent complete\n",
      "64.0 percent complete\n",
      "65.0 percent complete\n",
      "66.0 percent complete\n",
      "67.0 percent complete\n",
      "68.0 percent complete\n",
      "69.0 percent complete\n",
      "70.0 percent complete\n",
      "71.0 percent complete\n",
      "72.0 percent complete\n",
      "73.0 percent complete\n",
      "74.0 percent complete\n",
      "75.0 percent complete\n",
      "76.0 percent complete\n",
      "77.0 percent complete\n",
      "78.0 percent complete\n",
      "79.0 percent complete\n",
      "80.0 percent complete\n",
      "81.0 percent complete\n",
      "82.0 percent complete\n",
      "83.0 percent complete\n",
      "84.0 percent complete\n",
      "85.0 percent complete\n",
      "86.0 percent complete\n",
      "87.0 percent complete\n",
      "88.0 percent complete\n",
      "89.0 percent complete\n",
      "90.0 percent complete\n",
      "91.0 percent complete\n",
      "92.0 percent complete\n",
      "93.0 percent complete\n",
      "94.0 percent complete\n",
      "95.0 percent complete\n",
      "96.0 percent complete\n",
      "97.0 percent complete\n",
      "98.0 percent complete\n",
      "99.0 percent complete\n"
     ]
    }
   ],
   "source": [
    "from numpy import zeros, linspace\n",
    "import multiprocessing as mp\n",
    "\n",
    "phi = []\n",
    "SIZE = 2\n",
    "\n",
    "\n",
    "for i, loc1 in enumerate(linspace(-SIZE, SIZE, 100)):\n",
    "    def worker(tup):\n",
    "        \n",
    "        j = tup[0] \n",
    "        loc2 = tup[1]\n",
    "        def function_to_integrate_140(x,y):\n",
    "            a, b = loc1,loc2\n",
    "            r = [a,b]\n",
    "            rprime = [x,y]\n",
    "            dist = sqrt(sum([(a-x)**2, (b-y)**2]))\n",
    "            try:\n",
    "                return rho(x, y)/(dist)\n",
    "            except Exception as e:\n",
    "                pass\n",
    "            \n",
    "        def total_integral(x, y):\n",
    "            inte = adaptive_trapezoidal_2d(function_to_integrate_140, -1/2, -1/2, -1/2, 1/2, 10**-3)[0] + adaptive_trapezoidal_2d(function_to_integrate_140, -1/2, -1/2, 1/2, -1/2, 10**-3)[0]+ adaptive_trapezoidal_2d(function_to_integrate_140, 1/2, -1/2, 1/2, 1/2, 10**-3)[0]+ adaptive_trapezoidal_2d(function_to_integrate_140, -1/2, 1/2, 1/2, 1/2, 10**-3)[0]\n",
    "            if y == 0:\n",
    "                print(\"{}.{} percent complete\".format(x, y))\n",
    "            return  inte\n",
    "        \n",
    "        return total_integral(i, j)\n",
    "        \n",
    "    pool = mp.Pool()\n",
    "    phis = pool.map(worker, enumerate(linspace(-SIZE, SIZE, 100)))\n",
    "    phi.append(phis)\n",
    "    pool.close()"
   ]
  },
  {
   "cell_type": "code",
   "execution_count": 45,
   "metadata": {},
   "outputs": [
    {
     "data": {
      "text/plain": [
       "<matplotlib.image.AxesImage at 0x7f2ebb307c18>"
      ]
     },
     "execution_count": 45,
     "metadata": {},
     "output_type": "execute_result"
    },
    {
     "data": {
      "image/png": "[encoded data removed]",
      "text/plain": [
       "<Figure size 432x288 with 1 Axes>"
      ]
     },
     "metadata": {},
     "output_type": "display_data"
    }
   ],
   "source": [
    "from pylab import *\n",
    "%matplotlib inline \n",
    "imshow(phi)"
   ]
  },
  {
   "cell_type": "code",
   "execution_count": null,
   "metadata": {},
   "outputs": [],
   "source": [
    "## AFTER THE PHI EXISTS, THIS PART SHOULD JUST WORK. TRANSLATE X,Y TO POINTS IN PHI\n",
    "\n",
    "def dVdx(x,y):\n",
    "    h = 1\n",
    "    return (phi[x+h][y] - phi[x][y])/h\n",
    "\n",
    "def dVdy(x,y):\n",
    "    h = 1\n",
    "    return (phi[x][y+h] - phi[x][y])/h\n",
    "\n",
    "def E(x,y):\n",
    "    return (-(dVdx(x,y)), -(dVdy(x,y)))\n",
    "\n"
   ]
  }
 ],
 "metadata": {
  "kernelspec": {
   "display_name": "Python 3",
   "language": "python",
   "name": "python3"
  },
  "language_info": {
   "codemirror_mode": {
    "name": "ipython",
    "version": 3
   },
   "file_extension": ".py",
   "mimetype": "text/x-python",
   "name": "python",
   "nbconvert_exporter": "python",
   "pygments_lexer": "ipython3",
   "version": "3.6.4"
  },
  "latex_envs": {
   "LaTeX_envs_menu_present": true,
   "autoclose": false,
   "autocomplete": true,
   "bibliofile": "biblio.bib",
   "cite_by": "apalike",
   "current_citInitial": 1,
   "eqLabelWithNumbers": true,
   "eqNumInitial": 1,
   "hotkeys": {
    "equation": "Ctrl-E",
    "itemize": "Ctrl-I"
   },
   "labels_anchors": false,
   "latex_user_defs": false,
   "report_style_numbering": false,
   "user_envs_cfg": false
  }
 },
 "nbformat": 4,
 "nbformat_minor": 2
}
