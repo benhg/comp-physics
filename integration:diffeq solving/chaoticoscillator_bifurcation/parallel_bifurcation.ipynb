{
 "cells": [
  {
   "cell_type": "code",
   "execution_count": 1,
   "metadata": {},
   "outputs": [],
   "source": [
    "%matplotlib inline"
   ]
  },
  {
   "cell_type": "code",
   "execution_count": 9,
   "metadata": {},
   "outputs": [
    {
     "data": {
      "image/png": "[encoded data removed]",
      "text/plain": [
       "<Figure size 432x288 with 1 Axes>"
      ]
     },
     "metadata": {},
     "output_type": "display_data"
    },
    {
     "name": "stdout",
     "output_type": "stream",
     "text": [
      "CPU times: user 1.5 s, sys: 4.32 s, total: 5.82 s\n",
      "Wall time: 47 s\n"
     ]
    }
   ],
   "source": [
    "%%time\n",
    "\n",
    "# RK4 on a double differential eqn.\n",
    "from numpy import arange\n",
    "from pylab import *\n",
    "l = 9.8\n",
    "g = l\n",
    "q = .5\n",
    "Omega = 2/3\n",
    "\n",
    "\n",
    "def f1(theta, omega, t, fd):\n",
    "    return omega\n",
    "\n",
    "\n",
    "def f2(theta, omega, t, fd):\n",
    "    return -(g/l)*sin(theta) - q*omega + fd*sin(Omega * t)\n",
    "\n",
    "\n",
    "def thetomega(theta0, omega0, f1, f2, time, fd):\n",
    "\n",
    "    theta = theta0\n",
    "    omega = omega0\n",
    "\n",
    "    thetapoints = []\n",
    "    omegapoints = []\n",
    "    h = 10**-3\n",
    "    tpoints = arange(0, time, h)\n",
    "    for t in tpoints:\n",
    "        theta = theta - 2*pi if theta > pi else theta + 2*pi if theta < -1*pi else theta\n",
    "        if Omega * t % (2*pi) <= 5*h and t > 100:\n",
    "            thetapoints.append(theta)\n",
    "            omegapoints.append(omega)\n",
    "\n",
    "        k1 = h * f1(theta, omega, t, fd)\n",
    "        l1 = h * f2(theta, omega, t, fd)\n",
    "        k2 = h*f1(theta+k1/2, omega+l1/2, t+h/2, fd)\n",
    "        l2 = h*f2(theta+k1/2, omega+l1/2, t+h/2, fd)\n",
    "        k3 = h*f1(theta+k2/2, omega+l2/2, t+h/2, fd)\n",
    "        l3 = h*f2(theta+k2/2, omega+l2/2, t+h/2, fd)\n",
    "        k4 = h*f1(theta+k3, omega+l3, t+h, fd)\n",
    "        l4 = h*f2(theta+k3, omega+l3, t+h, fd)\n",
    "        theta = theta + 1/6 * (k1 + 2*k2 + 2*k3 + k4)\n",
    "        omega = omega + 1/6 * (l1 + 2*l2 + 2*l3 + l4)\n",
    "    return thetapoints, omegapoints, tpoints\n",
    "\n",
    "\n",
    "#thetapoints, omegapoints, tpoints = thetomega(0.2, 0, f1, f2, 2000, F_d)\n",
    "\n",
    "\n",
    "\n",
    "def f(F_d):\n",
    "    thetapoints, omegapoints, tpoints = thetomega(0.2, 0, f1, f2, 200, F_d)\n",
    "    return [[F_d, point] for point in thetapoints] \n",
    "\n",
    "        \n",
    "from multiprocessing import Pool\n",
    "pool = Pool(32)\n",
    "out = pool.map(f,  linspace(0.9, 1.6, 100))\n",
    "    \n",
    "flat_list = [item for sublist in out for item in sublist]\n",
    "plot(*zip(*flat_list) , \".\")\n",
    "show()"
   ]
  },
  {
   "cell_type": "code",
   "execution_count": null,
   "metadata": {},
   "outputs": [],
   "source": []
  }
 ],
 "metadata": {
  "kernelspec": {
   "display_name": "Python 3",
   "language": "python",
   "name": "python3"
  },
  "language_info": {
   "codemirror_mode": {
    "name": "ipython",
    "version": 3
   },
   "file_extension": ".py",
   "mimetype": "text/x-python",
   "name": "python",
   "nbconvert_exporter": "python",
   "pygments_lexer": "ipython3",
   "version": "3.6.4"
  },
  "latex_envs": {
   "LaTeX_envs_menu_present": true,
   "autoclose": false,
   "autocomplete": true,
   "bibliofile": "biblio.bib",
   "cite_by": "apalike",
   "current_citInitial": 1,
   "eqLabelWithNumbers": true,
   "eqNumInitial": 1,
   "hotkeys": {
    "equation": "Ctrl-E",
    "itemize": "Ctrl-I"
   },
   "labels_anchors": false,
   "latex_user_defs": false,
   "report_style_numbering": false,
   "user_envs_cfg": false
  }
 },
 "nbformat": 4,
 "nbformat_minor": 2
}
