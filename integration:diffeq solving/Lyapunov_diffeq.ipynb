{
 "cells": [
  {
   "cell_type": "code",
   "execution_count": null,
   "metadata": {},
   "outputs": [],
   "source": [
    "\n",
    "# RK4 on a double differential eqn.\n",
    "from numpy import arange\n",
    "from pylab import *\n",
    "l = 9.8\n",
    "g = l\n",
    "q = .5\n",
    "fd = 1.2\n",
    "Omega = 2/3\n",
    "\n",
    "\n",
    "def f1(theta, omega, t):\n",
    "    return omega\n",
    "\n",
    "\n",
    "def f2(theta, omega, t):\n",
    "    return -(g/l)*sin(theta) - q*omega + fd*sin(Omega * t)\n",
    "\n",
    "\n",
    "def rk4_chaotic_oscillator(theta0, omega0, f1, f2, time):\n",
    "\n",
    "    theta = theta0\n",
    "    omega = omega0\n",
    "\n",
    "    thetapoints = []\n",
    "    omegapoints = []\n",
    "    tpoints = arange(0, time, .1)\n",
    "    h = .1\n",
    "    for t in tpoints:\n",
    "        theta = theta - 2*pi if theta > pi else theta + 2*pi if theta < -1*pi else theta\n",
    "        thetapoints.append(theta)\n",
    "        omegapoints.append(omega)\n",
    "        k1 = h * f1(theta, omega, t)\n",
    "        l1 = h * f2(theta, omega, t)\n",
    "        k2 = h*f1(theta+k1/2, omega+l1/2, t+h/2)\n",
    "        l2 = h*f2(theta+k1/2, omega+l1/2, t+h/2)\n",
    "        k3 = h*f1(theta+k2/2, omega+l2/2, t+h/2)\n",
    "        l3 = h*f2(theta+k2/2, omega+l2/2, t+h/2)\n",
    "        k4 = h*f1(theta+k3, omega+l3, t+h)\n",
    "        l4 = h*f2(theta+k3, omega+l3, t+h)\n",
    "        theta = theta + 1/6 * (k1 + 2*k2 + 2*k3 + k4)\n",
    "        omega = omega + 1/6 * (l1 + 2*l2 + 2*l3 + l4)\n",
    "    return thetapoints, omegapoints, tpoints"
   ]
  },
  {
   "cell_type": "code",
   "execution_count": null,
   "metadata": {},
   "outputs": [],
   "source": [
    "thetapoints, omegapoints, tpoints = rk4_chaotic_oscillator(2, 0, f1, f2, 500)\n",
    "t2, o2, tp2, =  rk4_chaotic_oscillator(2+10**-6, 0, f1, f2, 500)\n",
    "\n",
    "plot(thetapoints, omegapoints)\n",
    "show()\n",
    "\n",
    "plot(tpoints, thetapoints, label=\"$\\Theta_0$ = %s\"%2)\n",
    "plot(tp2, t2, label=\"$\\Theta_0$ = %s + $10^{-6}$\"%2)\n",
    "legend()\n",
    "show()\n",
    "\n",
    "plot(tpoints, [log(abs(theta-t2[i])) for i, theta in enumerate(thetapoints)])\n",
    "\n",
    "show()"
   ]
  }
 ],
 "metadata": {
  "kernelspec": {
   "display_name": "Python 3",
   "language": "python",
   "name": "python3"
  },
  "language_info": {
   "codemirror_mode": {
    "name": "ipython",
    "version": 3
   },
   "file_extension": ".py",
   "mimetype": "text/x-python",
   "name": "python",
   "nbconvert_exporter": "python",
   "pygments_lexer": "ipython3",
   "version": "3.6.4"
  },
  "latex_envs": {
   "LaTeX_envs_menu_present": true,
   "autoclose": false,
   "autocomplete": true,
   "bibliofile": "biblio.bib",
   "cite_by": "apalike",
   "current_citInitial": 1,
   "eqLabelWithNumbers": true,
   "eqNumInitial": 1,
   "hotkeys": {
    "equation": "Ctrl-E",
    "itemize": "Ctrl-I"
   },
   "labels_anchors": false,
   "latex_user_defs": false,
   "report_style_numbering": false,
   "user_envs_cfg": false
  }
 },
 "nbformat": 4,
 "nbformat_minor": 2
}
