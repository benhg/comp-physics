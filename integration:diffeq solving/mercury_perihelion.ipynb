{
 "cells": [
  {
   "cell_type": "code",
   "execution_count": 1,
   "metadata": {},
   "outputs": [],
   "source": [
    "%matplotlib inline"
   ]
  },
  {
   "cell_type": "code",
   "execution_count": 94,
   "metadata": {},
   "outputs": [],
   "source": [
    "from pylab import *\n",
    "from numpy import *\n",
    "import numpy as np\n",
    "\n",
    "GMs = 4*pi**2\n",
    "CORR = 0\n",
    "\n",
    "\n",
    "def f1(x,y,vx,vy,t):\n",
    "    return vx\n",
    "\n",
    "def f2(x,y,vx,vy,t):\n",
    "    return vy\n",
    "\n",
    "def f3(x,y,vx,vy,t, GAMMA):\n",
    "    return -(GMs*x)/((x**2+y**2)**(3/2+CORR))*(1+ (GAMMA)/(x**2+y**2))\n",
    "\n",
    "def f4(x,y,vx,vy,t, GAMMA):\n",
    "    return -(GMs*y)/((x**2+y**2)**(3/2+CORR))*(1+ (GAMMA)/(x**2+y**2))\n",
    "\n",
    "def solar_system_rk4(r0, v0, f1, f2, f3, f4, tmax, gamma):\n",
    "    \n",
    "    xpts = []\n",
    "    ypts = []\n",
    "    vxpts = []\n",
    "    vypts = []\n",
    "    h = .00001\n",
    "    x = r0\n",
    "    y = 0\n",
    "    vx = 0\n",
    "    vy = v0\n",
    "    tpoints = arange(0, tmax, h)\n",
    "    for t in tpoints:\n",
    "        k1 = h*f1(x, y, vx, vy, t)\n",
    "        l1 = h*f2(x, y, vx, vy, t)\n",
    "        m1 = h*f3(x, y, vx, vy, t, gamma)\n",
    "        n1 = h*f4(x, y, vx, vy, t, gamma)\n",
    "        k2 = h*f1(x + k1/2, y+l1/2, vx+m1/2, vy+n1/2, t+h/2)\n",
    "        l2 = h*f2(x + k1/2, y+l1/2, vx+m1/2, vy+n1/2, t+h/2)\n",
    "        m2 = h*f3(x + k1/2, y+l1/2, vx+m1/2, vy+n1/2, t+h/2, gamma)\n",
    "        n2 = h*f4(x + k1/2, y+l1/2, vx+m1/2, vy+n1/2, t+h/2, gamma)\n",
    "        k3 = h*f1(x + k2/2, y+l2/2, vx+m2/2, vy+n2/2, t+h/2)\n",
    "        l3 = h*f2(x + k2/2, y+l2/2, vx+m2/2, vy+n2/2, t+h/2)\n",
    "        m3 = h*f3(x + k2/2, y+l2/2, vx+m2/2, vy+n2/2, t+h/2, gamma)\n",
    "        n3 = h*f4(x + k2/2, y+l2/2, vx+m2/2, vy+n2/2, t+h/2, gamma)\n",
    "        k4 = h*f1(x + k3, y+l3, vx+m3, vy+n3, t+h)\n",
    "        l4 = h*f2(x + k3, y+l3, vx+m3, vy+n3, t+h)\n",
    "        m4 = h*f3(x + k3, y+l3, vx+m3, vy+n3, t+h, gamma)\n",
    "        n4 = h*f4(x + k3, y+l3, vx+m3, vy+n3, t+h, gamma)\n",
    "        x = x + 1/6 * (k1 + 2* k2 + 2*k3 +k4)\n",
    "        y = y + 1/6 * (l1 + 2* l2 + 2*l3 +l4)\n",
    "        vx = vx + 1/6 * (m1 + 2* m2 + 2*m3 +m4)\n",
    "        vy = vy + 1/6 * (n1 + 2* n2 + 2*n3 +n4)\n",
    "        xpts.append(x)\n",
    "        ypts.append(y)\n",
    "        vxpts.append(vx)\n",
    "        vypts.append(vy)\n",
    "        \n",
    "    return xpts, ypts, vxpts, vypts, tpoints"
   ]
  },
  {
   "cell_type": "code",
   "execution_count": 232,
   "metadata": {},
   "outputs": [],
   "source": [
    "def get_vmin(alpha):\n",
    "    xpts, ypts, vxpts, vypts, tpts = solar_system_rk4(.3897, 8.166, f1, f2, f3, f4, 1, alpha)\n",
    "    vs = []\n",
    "    thetas = []\n",
    "    for i in range(len(xpts)):\n",
    "        vs.append(sqrt(vxpts[i]**2 + vypts[i]**2))\n",
    "        thetas.append(arctan2(ypts[i], xpts[i]))\n",
    "    return vs, thetas, xpts, ypts, tpts"
   ]
  },
  {
   "cell_type": "code",
   "execution_count": null,
   "metadata": {},
   "outputs": [],
   "source": []
  },
  {
   "cell_type": "code",
   "execution_count": 185,
   "metadata": {},
   "outputs": [],
   "source": [
    "def chunks(l, n):\n",
    "    \"\"\"Yield successive n-sized chunks from l.\"\"\"\n",
    "    for i in range(0, len(l), int(n)):\n",
    "        yield l[i:i + int(n)]"
   ]
  },
  {
   "cell_type": "code",
   "execution_count": 236,
   "metadata": {},
   "outputs": [
    {
     "data": {
      "text/plain": [
       "90.46316419916202"
      ]
     },
     "execution_count": 236,
     "metadata": {},
     "output_type": "execute_result"
    },
    {
     "data": {
      "image/png": "[encoded data removed]",
      "text/plain": [
       "<Figure size 432x288 with 1 Axes>"
      ]
     },
     "metadata": {},
     "output_type": "display_data"
    }
   ],
   "source": [
    "get_mean(.0008)"
   ]
  },
  {
   "cell_type": "code",
   "execution_count": 235,
   "metadata": {},
   "outputs": [],
   "source": [
    "def get_mean(alpha):\n",
    "    vs, thetas, xpts, ypts, tpts = get_vmin(alpha)\n",
    "    rpts = []\n",
    "    for i, x in enumerate(xpts):\n",
    "        rpts.append(sqrt(x**2 + ypts[i]**2))\n",
    "    maxs = [vs.index(max(x)) for x in chunks(vs, len(vs)/7)][:-1]\n",
    "    dts = []\n",
    "    for j, i in enumerate(maxs):\n",
    "        try:\n",
    "            time = tpts[i]\n",
    "            tnext = tpts[i+1]\n",
    "            dts.append((thetas[i+1] - thetas[i])/(tnext - time))\n",
    "        except:\n",
    "            pass\n",
    "    plot(tpts, vs)\n",
    "    plot([tpts[i] for i in maxs], [vs[i] for i in maxs],\"ok\")\n",
    "    return mean(dts)"
   ]
  },
  {
   "cell_type": "code",
   "execution_count": 237,
   "metadata": {},
   "outputs": [
    {
     "name": "stdout",
     "output_type": "stream",
     "text": [
      "[87.20842245641316, 87.25164420297207, 87.29485006670623, 87.33804131900419, 87.38121136344849, 87.42436355765908, 87.46750137395304, 87.51061845062654, 87.55371059675144, 87.59678864850979, 87.6398449666368, 87.68287888307376, 87.72589801415144, 87.76888881023312, 87.81186358761417, 87.85481715732146, 87.89774566238023, 87.94065238346103, 87.9835383631643, 88.0263995389917, 88.06923415812302, 88.1120545400988, 88.15485025887301, 88.19762098261312, 88.24036153755507, 88.2830764801629, 88.32577443689162, 88.3684413568666, 88.4110830557343, 88.453700628822, 88.49629223854663, 88.53885279946431, 88.58139129985129, 88.62390357190188, 88.66638384240414, 88.7088371469011, 88.75126356989952, 88.79366248485472, 88.83603341425952, 88.87837262681794, 88.9206830717587, 88.96296694189111, 89.00521778265002, 89.04743891371481, 89.08963423225866, 89.13179149522624, 89.17391709136236, 89.21602096770823, 89.25809223518154, 89.30013072319755, 89.34212925551859, 89.38409967712616, 89.42604256106306, 89.46794468247097, 89.50981885931081, 89.5516569845581, 89.59346129831727, 89.63523235475705, 89.67697390127084, 89.71867885988475, 89.76034340295143, 89.8019787762726, 89.84357721289312, 89.88513801974533, 89.92666381158018, 89.96815517208861, 90.00961125457998, 90.05103154492053, 90.09241224100664, 90.13375672902619, 90.17506703649353, 90.21633660219541, 90.25756909827363, 90.29876569427775, 90.33992258813034, 90.38103792829293, 90.42212333068474, 90.46316419916202, 90.50415950319834, 90.54512955547555, 90.58605909367677, 90.62694773313508, 90.66778814234196, 90.70859332098114, 90.7493635091389, 90.79008542543295, 90.83077184396153, 90.87141564372733, 90.91201798594786, 90.95256992256552, 90.99307204475063, 91.0335303577069, 91.07394767258015, 91.11432562432863, 91.1546620017376, 91.19494982901827, 91.23520174811229, 91.27540938222737, 91.31557215834846, 91.35569323780484]\n",
      "CPU times: user 574 ms, sys: 2.2 s, total: 2.78 s\n",
      "Wall time: 33.3 s\n"
     ]
    }
   ],
   "source": [
    "%%time\n",
    "import multiprocessing\n",
    "alphas = linspace(.0001, .001, 100)\n",
    "pool = multiprocessing.Pool()\n",
    "means = pool.map(get_mean, alphas)"
   ]
  },
  {
   "cell_type": "code",
   "execution_count": 238,
   "metadata": {},
   "outputs": [
    {
     "name": "stdout",
     "output_type": "stream",
     "text": [
      "Mercury's Perihelion processes at a rate of  43.616000288330824\n"
     ]
    },
    {
     "data": {
      "image/png": "[encoded data removed]",
      "text/plain": [
       "<Figure size 432x288 with 1 Axes>"
      ]
     },
     "metadata": {},
     "output_type": "display_data"
    }
   ],
   "source": [
    "from scipy import stats\n",
    "\n",
    "plot(alphas, means)\n",
    "\n",
    "mercury_alpha = .0001\n",
    "slope, intercept, r_value, p_value, std_err = stats.linregress(alphas, means)\n",
    "print(\"Mercury's Perihelion processes at a rate of \",((slope * mercury_alpha)+ intercept)/2)"
   ]
  }
 ],
 "metadata": {
  "kernelspec": {
   "display_name": "Python 3",
   "language": "python",
   "name": "python3"
  },
  "language_info": {
   "codemirror_mode": {
    "name": "ipython",
    "version": 3
   },
   "file_extension": ".py",
   "mimetype": "text/x-python",
   "name": "python",
   "nbconvert_exporter": "python",
   "pygments_lexer": "ipython3",
   "version": "3.6.4"
  },
  "latex_envs": {
   "LaTeX_envs_menu_present": true,
   "autoclose": false,
   "autocomplete": true,
   "bibliofile": "biblio.bib",
   "cite_by": "apalike",
   "current_citInitial": 1,
   "eqLabelWithNumbers": true,
   "eqNumInitial": 1,
   "hotkeys": {
    "equation": "Ctrl-E",
    "itemize": "Ctrl-I"
   },
   "labels_anchors": false,
   "latex_user_defs": false,
   "report_style_numbering": false,
   "user_envs_cfg": false
  }
 },
 "nbformat": 4,
 "nbformat_minor": 2
}
